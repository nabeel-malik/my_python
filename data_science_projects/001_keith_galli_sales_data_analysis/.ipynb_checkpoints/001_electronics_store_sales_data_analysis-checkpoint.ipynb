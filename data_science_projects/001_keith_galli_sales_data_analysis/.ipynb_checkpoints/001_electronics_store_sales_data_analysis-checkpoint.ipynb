{
 "cells": [
  {
   "cell_type": "code",
   "execution_count": null,
   "metadata": {},
   "outputs": [],
   "source": [
    "import pandas as pd"
   ]
  },
  {
   "cell_type": "markdown",
   "metadata": {},
   "source": [
    "## Merge 12 months of sales data (`.csv` files) into a since `.csv` file"
   ]
  },
  {
   "cell_type": "code",
   "execution_count": null,
   "metadata": {},
   "outputs": [],
   "source": [
    "import os\n",
    "\n",
    "sales_data_dir = 'original_data/SalesAnalysis/Sales_Data/'\n",
    "output_data_dir = 'original_data/SalesAnalysis/Output/'\n",
    "\n",
    "# Create empty dataframe\n",
    "df = pd.DataFrame()\n",
    "\n",
    "# Concatenate all .csv files to main dataframe (df)\n",
    "for file in os.listdir(sales_data_dir):\n",
    "    df_i = pd.read_csv(sales_data_dir + file)\n",
    "    \n",
    "    # The original csv files contain the column header row in multiple places.\n",
    "    # To fix that in the merged dataframe we need to filter them out as follows.\n",
    "    filter = df_i['Order ID'] == 'Order ID'\n",
    "    df_i = df_i[~filter]\n",
    "    \n",
    "    df = pd.concat([df, df_i], axis='index', ignore_index=True)\n",
    "\n",
    "# Write dataframe (df) to csv \n",
    "df.to_csv(output_data_dir + 'Sales_Merged_2019.csv', index=False)\n",
    "\n",
    "df.head()"
   ]
  },
  {
   "cell_type": "markdown",
   "metadata": {},
   "source": [
    "***"
   ]
  },
  {
   "cell_type": "markdown",
   "metadata": {},
   "source": [
    "## Question 1: What was the best month for sales? How much was earned in that month?"
   ]
  },
  {
   "cell_type": "markdown",
   "metadata": {},
   "source": [
    "Basic steps:\n",
    "- Handle **missing values**\n",
    "- Check column **dtypes** and modify where needed, including setting 'Order Date' to 'datetime' type.\n",
    "- **Set index** if needed.\n",
    "- Create **'Order Month'** column from 'Order Date'\n",
    "- Create **'Sale Revenue'** column --> 'Sale Revenue' = 'Quantity Ordered' * 'Price Each'\n",
    "- **Groupby 'Order Month'**\n",
    "- Find out **'Order Month' with highest 'Sale Revenue'** using:\n",
    "    - .sum() method, and/or\n",
    "    - bar plot"
   ]
  },
  {
   "cell_type": "code",
   "execution_count": null,
   "metadata": {},
   "outputs": [],
   "source": [
    "df.dropna(inplace=True)\n",
    "df"
   ]
  },
  {
   "cell_type": "code",
   "execution_count": null,
   "metadata": {},
   "outputs": [],
   "source": [
    "df.dtypes"
   ]
  },
  {
   "cell_type": "code",
   "execution_count": null,
   "metadata": {},
   "outputs": [],
   "source": [
    "# Convert the 'Order Date' column to 'datetime' dtype\n",
    "df['Order Date'] = pd.to_datetime(df['Order Date'], format='%m/%d/%y %H:%M')        # You could also do this without 'format='\n",
    "df['Order Date']"
   ]
  },
  {
   "cell_type": "code",
   "execution_count": null,
   "metadata": {},
   "outputs": [],
   "source": [
    "df.dtypes"
   ]
  },
  {
   "cell_type": "code",
   "execution_count": null,
   "metadata": {},
   "outputs": [],
   "source": [
    "# Cast data types of other columns, where needed\n",
    "df = df.astype({'Order ID': 'int64', 'Quantity Ordered': 'int64', 'Price Each': 'float'})\n",
    "df.dtypes"
   ]
  },
  {
   "cell_type": "code",
   "execution_count": null,
   "metadata": {},
   "outputs": [],
   "source": [
    "# Set index to 'Order ID'\n",
    "df.set_index('Order ID', inplace=True)\n",
    "df"
   ]
  },
  {
   "cell_type": "markdown",
   "metadata": {},
   "source": [
    "<p style=\"color:blue\";> LEARNING POINT </p>\n",
    "\n",
    "To **create the 'Order Month' column**, we can use `DataFrame[<datetime_column>].dt.month` to extract the month from a `datetime64` column:"
   ]
  },
  {
   "cell_type": "code",
   "execution_count": null,
   "metadata": {},
   "outputs": [],
   "source": [
    "df['Order Month'] = df['Order Date'].dt.month\n",
    "df"
   ]
  },
  {
   "cell_type": "markdown",
   "metadata": {},
   "source": [
    "We will then **create the 'Sale Revenue' column**:"
   ]
  },
  {
   "cell_type": "code",
   "execution_count": null,
   "metadata": {},
   "outputs": [],
   "source": [
    "df['Sale Revenue'] = df['Quantity Ordered'] * df['Price Each']\n",
    "df"
   ]
  },
  {
   "cell_type": "code",
   "execution_count": null,
   "metadata": {},
   "outputs": [],
   "source": [
    "# Final check on dtypes\n",
    "df.dtypes"
   ]
  },
  {
   "cell_type": "markdown",
   "metadata": {},
   "source": [
    "Now we can group the dataframe by 'Order Month' and find out the highest 'Sale Revenue' for each month using:\n",
    "- SeriesGroupBy.sum() method\n",
    "- Bar plots"
   ]
  },
  {
   "cell_type": "code",
   "execution_count": null,
   "metadata": {},
   "outputs": [],
   "source": [
    "# Create month group\n",
    "month_grp = df.groupby('Order Month')"
   ]
  },
  {
   "cell_type": "code",
   "execution_count": null,
   "metadata": {},
   "outputs": [],
   "source": [
    "# SeriesGroupBy.sum() method to find month with highest sales\n",
    "month_grp['Sale Revenue'].sum()"
   ]
  },
  {
   "cell_type": "code",
   "execution_count": null,
   "metadata": {},
   "outputs": [],
   "source": [
    "# Bar plots to find month with highest sales\n",
    "from matplotlib import pyplot as plt\n",
    "\n",
    "plt.style.use('fivethirtyeight')\n",
    "\n",
    "fig, ax = plt.subplots()\n",
    "\n",
    "ord_mth = month_grp['Sale Revenue'].sum().index\n",
    "sales = month_grp['Sale Revenue'].sum()\n",
    "\n",
    "ax.bar(ord_mth, sales)\n",
    "\n",
    "ax.set_title('Monthly Sales')\n",
    "ax.set_xlabel('Months')\n",
    "ax.set_ylabel('Sales Revenue')\n",
    "\n",
    "# To show x-axis tick labels for each month\n",
    "ax.set_xticks(range(1,13))\n",
    "\n",
    "plt.tight_layout()"
   ]
  },
  {
   "cell_type": "markdown",
   "metadata": {},
   "source": [
    "### Answer 1: So, the month with the highest sales is December. The sales for December is 4,613,443."
   ]
  },
  {
   "cell_type": "markdown",
   "metadata": {},
   "source": [
    "***"
   ]
  },
  {
   "cell_type": "markdown",
   "metadata": {},
   "source": [
    "## Question 2: What city had the highest sales in 2019?"
   ]
  },
  {
   "cell_type": "code",
   "execution_count": null,
   "metadata": {},
   "outputs": [],
   "source": [
    "df"
   ]
  },
  {
   "cell_type": "markdown",
   "metadata": {},
   "source": [
    "Now, we want to create a new column for called **'Purchase City'**, but we also need to be careful that **in US city names do duplicate**, and that is the case in this dataset.\n",
    "\n",
    "So, if the **'Purchase Address' is '917 1st St, Dallas, TX 75001'**, we want the **'Purchase City' to be 'Dallas (TX)'**"
   ]
  },
  {
   "cell_type": "code",
   "execution_count": null,
   "metadata": {},
   "outputs": [],
   "source": [
    "# Function to get city and state in the required format: Dallas (TX)\n",
    "def get_city(address):\n",
    "    city = address.split(',')[1].strip()\n",
    "    state = address.split(',')[2].strip()[0:2]\n",
    "    return f'{city} ({state})'\n",
    "\n",
    "# Create new series for 'Purchase City' using .apply() and the get_city() function\n",
    "df['Purchase City'] = df['Purchase Address'].apply(get_city)\n",
    "df"
   ]
  },
  {
   "cell_type": "code",
   "execution_count": null,
   "metadata": {},
   "outputs": [],
   "source": [
    "# Create city group\n",
    "city_grp = df.groupby('Purchase City')"
   ]
  },
  {
   "cell_type": "code",
   "execution_count": null,
   "metadata": {},
   "outputs": [],
   "source": [
    "# SeriesGroupBy.sum() method to find the city with highest sales\n",
    "city_grp['Sale Revenue'].sum()"
   ]
  },
  {
   "cell_type": "markdown",
   "metadata": {},
   "source": [
    "You can see above that there were 2 Portlands in the dataframe. And that is why we added the States."
   ]
  },
  {
   "cell_type": "code",
   "execution_count": null,
   "metadata": {},
   "outputs": [],
   "source": [
    "# Bar plots to find the city with highest sales\n",
    "\n",
    "fig, ax = plt.subplots()\n",
    "\n",
    "city = city_grp['Sale Revenue'].sum().index\n",
    "sales = city_grp['Sale Revenue'].sum()\n",
    "\n",
    "ax.bar(city, sales)\n",
    "\n",
    "ax.set_title('Sales per City')\n",
    "ax.set_xlabel('City')\n",
    "ax.set_ylabel('Sales Revenue')\n",
    "\n",
    "# To rotate x-axis tick-labels\n",
    "plt.xticks(rotation=90)\n",
    "\n",
    "# Increase figure size\n",
    "fig.set_size_inches(10, 8)\n",
    "\n",
    "plt.tight_layout()"
   ]
  },
  {
   "cell_type": "markdown",
   "metadata": {},
   "source": [
    "### Answer 2: So, the city with the highest sales is San Francisco. The sales for San Franciso is 8,262,204."
   ]
  },
  {
   "cell_type": "markdown",
   "metadata": {},
   "source": [
    "***"
   ]
  },
  {
   "cell_type": "markdown",
   "metadata": {},
   "source": [
    "## Question 3: At what time of the day should we display advertisements to maximize the likelihood of customers buying our products?"
   ]
  },
  {
   "cell_type": "code",
   "execution_count": null,
   "metadata": {},
   "outputs": [],
   "source": [
    "df"
   ]
  },
  {
   "cell_type": "markdown",
   "metadata": {},
   "source": [
    "Let's make a **histogram for '# of orders' vs 'hour of the day'** to get an idea of the hours when the most orders are placed."
   ]
  },
  {
   "cell_type": "code",
   "execution_count": null,
   "metadata": {},
   "outputs": [],
   "source": [
    "# Create order hour column\n",
    "df['Order Hour'] = df['Order Date'].dt.hour\n",
    "df"
   ]
  },
  {
   "cell_type": "code",
   "execution_count": null,
   "metadata": {},
   "outputs": [],
   "source": [
    "df.dtypes"
   ]
  },
  {
   "cell_type": "code",
   "execution_count": null,
   "metadata": {},
   "outputs": [],
   "source": [
    "# Histogram for '# of orders' versus 'hour of the day'\n",
    "\n",
    "fig, ax = plt.subplots()\n",
    "\n",
    "hour = df['Order Hour']\n",
    "hour_bins= [0,2,4,6,8,10,12,14,16,18,20,22,24]\n",
    "\n",
    "ax.hist(hour, bins=hour_bins, edgecolor='black')\n",
    "\n",
    "ax.set_title('# of Orders vs Hour of the day')\n",
    "ax.set_xlabel('Hour of the day')\n",
    "ax.set_ylabel('# of Orders')\n",
    "\n",
    "# To rotate x-axis tick-labels\n",
    "plt.xticks(hour_bins)\n",
    "\n",
    "# Increase figure size\n",
    "fig.set_size_inches(12, 7)\n",
    "\n",
    "plt.tight_layout()"
   ]
  },
  {
   "cell_type": "markdown",
   "metadata": {},
   "source": [
    "### Answer 3: So, it looks like the best times to display advertisements would be 10-12, and 18-20. "
   ]
  },
  {
   "cell_type": "markdown",
   "metadata": {},
   "source": [
    "***"
   ]
  },
  {
   "cell_type": "markdown",
   "metadata": {},
   "source": [
    "## Question 4: Which (two) products are most often sold together?"
   ]
  },
  {
   "cell_type": "markdown",
   "metadata": {},
   "source": [
    "<p style=\"color:blue\";> LEARNING POINT </p>\n",
    "\n",
    "The answer to this entire question is a good learning point. The key things learned/reviewed are:\n",
    "- `Series.duplicated(keep=)` method to find duplicated values in a series,\n",
    "- `SeriesGroupBy.transform(<func>)` to call a function producing a \"like-indexed\" Series on each group, and return a Series having the same indexes as the original object filled with the transformed values,\n",
    "- `DataFrame.drop_duplicates()` to drop duplicate rows in a dataframe,\n",
    "- `itertools.combinations(<iterable>, r)` to find all possible combinations of ***r*** elements in an iterable,\n",
    "- `collections.Counter(<iterable>)` to create a container that stores elements as dictionary keys, and their counts are stored as dictionary values, and\n",
    "- `collections.Counter().update()` to update counts in a `Counter()` object."
   ]
  },
  {
   "cell_type": "markdown",
   "metadata": {},
   "source": [
    "**Hint: We identify products that were sold together by looking for duplicate 'Order ID's."
   ]
  },
  {
   "cell_type": "markdown",
   "metadata": {},
   "source": [
    "#### Stage 1: We want to end up with a dataframe that looks like this:"
   ]
  },
  {
   "attachments": {
    "2020-07-16_14-35-16.png": {
     "image/png": "[encoded data removed]"
    }
   },
   "cell_type": "markdown",
   "metadata": {},
   "source": [
    "![2020-07-16_14-35-16.png](attachment:2020-07-16_14-35-16.png)"
   ]
  },
  {
   "cell_type": "markdown",
   "metadata": {},
   "source": [
    "Note that in the table above:\n",
    "- All the 'Order ID' values are those that were duplicated in the original dataframe (had multiple products sold with same 'Order ID'). In this table, the duplicate 'Order ID' values are removed.\n",
    "- The individual 'Product' values, for each duplicate 'Order ID' in the original dataframe, are 'joined' with a \",\" in between."
   ]
  },
  {
   "cell_type": "code",
   "execution_count": null,
   "metadata": {},
   "outputs": [],
   "source": [
    "df"
   ]
  },
  {
   "cell_type": "code",
   "execution_count": null,
   "metadata": {},
   "outputs": [],
   "source": [
    "df = df.reset_index()\n",
    "df"
   ]
  },
  {
   "cell_type": "markdown",
   "metadata": {},
   "source": [
    "Let's **filter the duplicate orders** from the original dataframe (`df`) and assign this filtered dataframe to a new dataframe (`df_do`):"
   ]
  },
  {
   "cell_type": "code",
   "execution_count": null,
   "metadata": {},
   "outputs": [],
   "source": [
    "# Create dataframe for duplicate orders only (df_do)\n",
    "df_do = df[df['Order ID'].duplicated(keep=False)]           # 'keep=False' would keep ALL duplicates (not just first or last)\n",
    "df_do"
   ]
  },
  {
   "cell_type": "markdown",
   "metadata": {},
   "source": [
    "Now, we want to create a **'Products Grouped'** column in the dataframe above (`df_do`) with **'Product' values for duplicate 'Order ID' values joined together with a \",\" separator.**\n",
    "\n",
    "It seems like we would have to group (`.groupby()`) the dataframe above (`df_do`) by 'Order ID', and apply `.transform()` to it.\n",
    "\n",
    "`SeriesGroupBy.transform(<func>)` is used to call a function producing a \"like-indexed\" Series on each group, and return a Series having the same indexes as the original object filled with the transformed values.\n",
    "\n",
    "You can read more about `SeriesGroupBy.transform(<func>)` on the following links:\n",
    "\n",
    "Pandas documentation for `SeriesGroupBy.transform(<func>)`: https://pandas.pydata.org/docs/dev/reference/api/pandas.core.groupby.SeriesGroupBy.transform.html\n",
    "\n",
    "An excellent example of the application of `SeriesGroupBy.transform(<func>)`:<br>https://pbpython.com/pandas_transform.html"
   ]
  },
  {
   "cell_type": "code",
   "execution_count": null,
   "metadata": {},
   "outputs": [],
   "source": [
    "df_do['Products Grouped'] = df_do.groupby('Order ID')['Product'].transform(lambda x: ','.join(x))\n",
    "df_do"
   ]
  },
  {
   "cell_type": "markdown",
   "metadata": {},
   "source": [
    "Now, let's just:\n",
    "- filter our the 'Order ID' and 'Products Grouped' columns, \n",
    "- drop the duplicate rows with `.drop_duplicates()`, and\n",
    "- assign the resulting dataframe to a new dataframe called `df_do_v2`"
   ]
  },
  {
   "cell_type": "code",
   "execution_count": null,
   "metadata": {},
   "outputs": [],
   "source": [
    "df_do_v2 = df_do[['Order ID', 'Products Grouped']].drop_duplicates()\n",
    "df_do_v2"
   ]
  },
  {
   "cell_type": "markdown",
   "metadata": {},
   "source": [
    "#### Stage 2: We want to count the product \"pairs\" that were sold together most often"
   ]
  },
  {
   "cell_type": "markdown",
   "metadata": {},
   "source": [
    "To do this, we will:\n",
    "- Initialize a `Counter()` object,\n",
    "- Loop through the rows in the 'Products Grouped' column in the dataframe above, and inside the loop:\n",
    "    - Count all possible product combinations of TWO that occur with EACH 'Order ID', and update the cumulative count in the original `Counter()`, before moving on the the next row, until we have looped through the entire 'Products Grouped' column."
   ]
  },
  {
   "cell_type": "code",
   "execution_count": null,
   "metadata": {},
   "outputs": [],
   "source": [
    "from itertools import combinations\n",
    "from collections import Counter\n",
    "\n",
    "count = Counter()\n",
    "\n",
    "for item in df_do_v2['Products Grouped']:\n",
    "    item_list = item.split(',')\n",
    "    count.update(Counter(combinations(item_list, 2)))                 # Note how Counter() and combinations work"
   ]
  },
  {
   "cell_type": "markdown",
   "metadata": {},
   "source": [
    "What you see above is a very power application of `itertools.combinations(<iterable>, r)` alongwith `collections.Counter(<iterable>)`.\n",
    "\n",
    "To summarize the methods used in the cell above:\n",
    "- `itertools.combinations(<iterable>, r)` to find all possible combinations of ***r*** elements in an iterable,\n",
    "- `collections.Counter(<iterable>)` to create a container that stores elements as dictionary keys, and their counts are stored as dictionary values, and\n",
    "- `collections.Counter().update()` to update counts in a `Counter()` object.\n",
    "\n",
    "Understand the methods used above by viewing the following links:\n",
    "\n",
    "`itertools.combinations(<iterable>, r)`: https://www.hackerrank.com/challenges/itertools-combinations/problem#:~:text=itertools.combinations\n",
    "\n",
    "`collections.Counter(<iterable>)`: https://www.hackerrank.com/challenges/collections-counter/problem\n",
    "\n",
    "`collections.Counter().update()`: https://www.geeksforgeeks.org/counters-in-python-set-1/\n"
   ]
  },
  {
   "cell_type": "code",
   "execution_count": null,
   "metadata": {},
   "outputs": [],
   "source": [
    "for key, value in count.most_common(10):     # .most_common(n) returns a list of n most common elements and their counts\n",
    "    print(key[0] + ' & ' + key[1] + ':  ', end='')\n",
    "    print(value)"
   ]
  },
  {
   "cell_type": "markdown",
   "metadata": {},
   "source": [
    "### Answer 3: So, above we can see above the product pairs sold together most often."
   ]
  },
  {
   "cell_type": "markdown",
   "metadata": {},
   "source": [
    "***"
   ]
  },
  {
   "cell_type": "markdown",
   "metadata": {},
   "source": [
    "## Question 5a: What product sold in the highest quantity? "
   ]
  },
  {
   "cell_type": "code",
   "execution_count": null,
   "metadata": {},
   "outputs": [],
   "source": [
    "df"
   ]
  },
  {
   "cell_type": "code",
   "execution_count": null,
   "metadata": {},
   "outputs": [],
   "source": [
    "product_grp = df.groupby('Product')\n",
    "highest_sold_prod = product_grp['Quantity Ordered'].sum()\n",
    "highest_sold_prod.sort_values(ascending=False, inplace=True)\n",
    "highest_sold_prod"
   ]
  },
  {
   "cell_type": "markdown",
   "metadata": {},
   "source": [
    "Let's plot the above on a bar plot:"
   ]
  },
  {
   "cell_type": "code",
   "execution_count": null,
   "metadata": {},
   "outputs": [],
   "source": [
    "# Bar plot to find the product sold in the highest quantity\n",
    "\n",
    "fig, ax = plt.subplots()\n",
    "\n",
    "product = highest_sold_prod.index\n",
    "qty_sold = highest_sold_prod\n",
    "\n",
    "ax.bar(product, qty_sold)\n",
    "\n",
    "ax.set_title('Product Quantity Sold')\n",
    "ax.set_xlabel('Products')\n",
    "ax.set_ylabel('Quantity Sold')\n",
    "\n",
    "# To rotate x-axis tick-labels\n",
    "plt.xticks(rotation=90)\n",
    "\n",
    "# Increase figure size\n",
    "fig.set_size_inches(10, 8)\n",
    "\n",
    "plt.tight_layout()"
   ]
  },
  {
   "cell_type": "markdown",
   "metadata": {},
   "source": [
    "### Answer 5a: The product sold in the highest quantity is: 'AAA Batteries (4-pack)'"
   ]
  },
  {
   "cell_type": "markdown",
   "metadata": {},
   "source": [
    "***"
   ]
  },
  {
   "cell_type": "markdown",
   "metadata": {},
   "source": [
    "## Question 5b: Why do you think the product from Answer 5a had the highest quantity sold?"
   ]
  },
  {
   "cell_type": "markdown",
   "metadata": {},
   "source": [
    "It could be that 'AAA Batteries (4-pack)' sold in the highest quanity because they are one of the cheapest products. Let's test this hypothesis by **visualizing product quantities sold against their prices**, and see if there is a correlation between the two.\n",
    "\n",
    "So, since we are trying to see the correlation between two variables (Product quantity sold & price), we might want to use a **scatter plot**.'"
   ]
  },
  {
   "cell_type": "code",
   "execution_count": null,
   "metadata": {},
   "outputs": [],
   "source": [
    "highest_sold_prod"
   ]
  },
  {
   "cell_type": "code",
   "execution_count": null,
   "metadata": {},
   "outputs": [],
   "source": [
    "product_prices = product_grp['Price Each'].mean().sort_values(ascending=False)\n",
    "product_prices"
   ]
  },
  {
   "cell_type": "code",
   "execution_count": null,
   "metadata": {},
   "outputs": [],
   "source": [
    "df_price_corr = pd.concat([highest_sold_prod, product_prices], axis='columns')\n",
    "df_price_corr"
   ]
  },
  {
   "cell_type": "code",
   "execution_count": null,
   "metadata": {},
   "outputs": [],
   "source": [
    "# Scatter plot to find correlation between product quantity sold and product price\n",
    "\n",
    "fig, ax = plt.subplots()\n",
    "\n",
    "qty_sold = df_price_corr['Quantity Ordered']\n",
    "price = df_price_corr['Price Each']\n",
    "\n",
    "labels = df_price_corr.index\n",
    "\n",
    "ax.scatter(price, qty_sold, s=50, c='lightblue', edgecolor='black', linewidth=1, alpha=0.75)\n",
    "\n",
    "ax.set_title('Product Quantity Sold vs Product Price')\n",
    "ax.set_xlabel('Product Price')\n",
    "ax.set_ylabel('Product Quantity Sold')\n",
    "\n",
    "# Increase figure size\n",
    "fig.set_size_inches(12, 6)\n",
    "\n",
    "plt.tight_layout()"
   ]
  },
  {
   "cell_type": "markdown",
   "metadata": {},
   "source": [
    "<p style=\"color:blue\";> LEARNING POINT </p>\n",
    "\n",
    "We could **annotate the points in scatter plot above with the product names** using `enumerate(<labels>)` and `ax.annotate(<text>, <x>, <y>)` "
   ]
  },
  {
   "cell_type": "code",
   "execution_count": null,
   "metadata": {},
   "outputs": [],
   "source": [
    "# Scatter plot to find correlation between product quantity sold and product price with annotations\n",
    "\n",
    "fig, ax = plt.subplots()\n",
    "\n",
    "qty_sold = df_price_corr['Quantity Ordered']\n",
    "price = df_price_corr['Price Each']\n",
    "\n",
    "labels = df_price_corr.index\n",
    "\n",
    "ax.scatter(price, qty_sold, s=50, c='lightblue', edgecolor='black', linewidth=1, alpha=0.75)\n",
    "\n",
    "ax.set_title('Product Quantity Sold vs Product Price')\n",
    "ax.set_xlabel('Product Price')\n",
    "ax.set_ylabel('Product Quantity Sold')\n",
    "\n",
    "# Annotate the points with product names\n",
    "for i, txt in enumerate(labels):\n",
    "    ax.annotate(txt, (price[i], qty_sold[i]))\n",
    "\n",
    "# Increase figure size\n",
    "fig.set_size_inches(12, 6)\n",
    "\n",
    "plt.tight_layout()"
   ]
  },
  {
   "cell_type": "markdown",
   "metadata": {},
   "source": [
    "### Answer 5b: Based on the scatter plot above, there is a *correlation* between product price and quantity sold. However, *correlation does NOT mean causation*."
   ]
  }
 ],
 "metadata": {
  "kernelspec": {
   "display_name": "Python 3",
   "language": "python",
   "name": "python3"
  },
  "language_info": {
   "codemirror_mode": {
    "name": "ipython",
    "version": 3
   },
   "file_extension": ".py",
   "mimetype": "text/x-python",
   "name": "python",
   "nbconvert_exporter": "python",
   "pygments_lexer": "ipython3",
   "version": "3.7.6"
  }
 },
 "nbformat": 4,
 "nbformat_minor": 4
}
