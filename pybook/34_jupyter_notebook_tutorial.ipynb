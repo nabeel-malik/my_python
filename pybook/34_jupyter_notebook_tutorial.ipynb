{
 "cells": [
  {
   "cell_type": "markdown",
   "metadata": {},
   "source": [
    "# Jupyter Notebook Tutorial"
   ]
  },
  {
   "cell_type": "markdown",
   "metadata": {},
   "source": [
    "In this tutorial I intend to go through some of the basics of how Jupyter Notebook works.\n",
    "\n",
    "**Markdown cells** have their text input rendered to HTML when executed. These cells serve as a way to add notes to the notebook.\n",
    "\n",
    "Markdown for Jupyter Notebooks Cheatsheet: https://medium.com/ibm-data-science-experience/markdown-for-jupyter-notebooks-cheatsheet-386c05aeebed\n",
    "\n",
    "Basic formatting of *italics* and **bold** is supported. This *can be **nested** like* so.\n",
    "\n",
    "This notebook shows:\n",
    "1. How to get started with notebooks\n",
    "2. How to execute code\n",
    "3. How to add markdown\n",
    "4. And... other stuff"
   ]
  },
  {
   "cell_type": "markdown",
   "metadata": {},
   "source": [
    "## Command and Edit modes\n",
    "\n",
    "The Jupyter Notebook has two different keyboard input modes. \n",
    "\n",
    "**Edit mode** allows you to type code or text into a cell and is indicated by a green cell border. \n",
    "\n",
    "**Command mode** binds the keyboard to notebook level commands and is indicated by a grey cell border with a blue left margin.\n",
    "\n",
    "\n",
    "Hit `Enter` for **Edit mode**.\n",
    "\n",
    "Hit `Esc` for **Command mode**.\n"
   ]
  },
  {
   "cell_type": "markdown",
   "metadata": {},
   "source": [
    "## Keyboard shortcuts\n",
    "\n",
    "The first thing I would highly recommend is to go to `Help` > `Keyboard shortcuts`, and have a look at the important keyboard shortcuts for the **Command** and **Edit** modes.\n",
    "\n",
    "Press `H` in *command mode* to show keyboard shortcuts.\n",
    "\n",
    "### Important <u>**COMMAND MODE**</u> shortcuts:\n",
    "\n",
    "#### Running cells\n",
    "`Shift`-`Enter`: run cell, select below<br>\n",
    "`Ctrl`-`Enter`: run selected cells<br>\n",
    "`Alt`-`Enter`: run cell and insert below<br>\n",
    "`Esc` + `Ctrl-A` + `Shift`-`Enter`: run ALL, select below\n",
    "#### Cut/copy/paste cells\n",
    "`A`: insert cell above<br>\n",
    "`B`: insert cell below<br>\n",
    "`X`: cut selected cells<br>\n",
    "`C`: copy selected cells<br>\n",
    "`V`: paste cells below\n",
    "#### Code/Markdown cells\n",
    "`Y`: change cell to code<br>\n",
    "`M`: change cell to markdown\n",
    "#### Other shortcuts\n",
    "`H`: show keyboard shortcuts<br>\n",
    "`F`: find and replace<br>\n",
    "`Ctrl`-`S`: save and checkpoint<br>\n",
    "`D`,`D`: delete selected cells\n",
    "`Ctrl-Shift-P` show command pallette\n",
    "\n",
    "### Important <u>**EDIT MODE**</u> shortcuts:\n",
    "\n",
    "`Shift` + `Tab (4 times)` with cursor on a *function/method/attribute*: open *docstring* in pager<br>"
   ]
  },
  {
   "cell_type": "code",
   "execution_count": 1,
   "metadata": {},
   "outputs": [
    {
     "name": "stdout",
     "output_type": "stream",
     "text": [
      "Hello\n"
     ]
    }
   ],
   "source": [
    "print(\"Hello\")"
   ]
  },
  {
   "cell_type": "markdown",
   "metadata": {},
   "source": [
    "## Code execution sequence:\n",
    "\n",
    "The number inside **[ ]**, for the **In** and **Out** cell labels, indicates the position of that cell in the sequence of code execution in the notebook. These numbers are not necessarily in an order going from the top of the notebook to the bottom.\n",
    "\n",
    "To run all lines of code from top to bottom in a sequence: Go to **Kernel > Restart & Run All** or use the shortcut `Esc` + `Ctrl-A` + `Shift`-`Enter`.\n"
   ]
  },
  {
   "cell_type": "markdown",
   "metadata": {},
   "source": [
    "## Built-in commands called 'Magics'\n",
    "\n",
    "`%`: **Line magics:** Command's arguments will all come from that same line.<br>\n",
    "`%%`: **Cell magics:** The entire cell will be used as that command's arguments.<br><br>\n",
    "The `%lsmagic` magic command is used to list all of the other available *line* and *cell magic commands*."
   ]
  },
  {
   "cell_type": "code",
   "execution_count": 4,
   "metadata": {},
   "outputs": [
    {
     "data": {
      "application/json": {
       "cell": {
        "!": "OSMagics",
        "HTML": "Other",
        "SVG": "Other",
        "bash": "Other",
        "capture": "ExecutionMagics",
        "cmd": "Other",
        "debug": "ExecutionMagics",
        "file": "Other",
        "html": "DisplayMagics",
        "javascript": "DisplayMagics",
        "js": "DisplayMagics",
        "latex": "DisplayMagics",
        "markdown": "DisplayMagics",
        "perl": "Other",
        "prun": "ExecutionMagics",
        "pypy": "Other",
        "python": "Other",
        "python2": "Other",
        "python3": "Other",
        "ruby": "Other",
        "script": "ScriptMagics",
        "sh": "Other",
        "svg": "DisplayMagics",
        "sx": "OSMagics",
        "system": "OSMagics",
        "time": "ExecutionMagics",
        "timeit": "ExecutionMagics",
        "writefile": "OSMagics"
       },
       "line": {
        "alias": "OSMagics",
        "alias_magic": "BasicMagics",
        "autoawait": "AsyncMagics",
        "autocall": "AutoMagics",
        "automagic": "AutoMagics",
        "autosave": "KernelMagics",
        "bookmark": "OSMagics",
        "cd": "OSMagics",
        "clear": "KernelMagics",
        "cls": "KernelMagics",
        "colors": "BasicMagics",
        "conda": "PackagingMagics",
        "config": "ConfigMagics",
        "connect_info": "KernelMagics",
        "copy": "Other",
        "ddir": "Other",
        "debug": "ExecutionMagics",
        "dhist": "OSMagics",
        "dirs": "OSMagics",
        "doctest_mode": "BasicMagics",
        "echo": "Other",
        "ed": "Other",
        "edit": "KernelMagics",
        "env": "OSMagics",
        "gui": "BasicMagics",
        "hist": "Other",
        "history": "HistoryMagics",
        "killbgscripts": "ScriptMagics",
        "ldir": "Other",
        "less": "KernelMagics",
        "load": "CodeMagics",
        "load_ext": "ExtensionMagics",
        "loadpy": "CodeMagics",
        "logoff": "LoggingMagics",
        "logon": "LoggingMagics",
        "logstart": "LoggingMagics",
        "logstate": "LoggingMagics",
        "logstop": "LoggingMagics",
        "ls": "Other",
        "lsmagic": "BasicMagics",
        "macro": "ExecutionMagics",
        "magic": "BasicMagics",
        "matplotlib": "PylabMagics",
        "mkdir": "Other",
        "more": "KernelMagics",
        "notebook": "BasicMagics",
        "page": "BasicMagics",
        "pastebin": "CodeMagics",
        "pdb": "ExecutionMagics",
        "pdef": "NamespaceMagics",
        "pdoc": "NamespaceMagics",
        "pfile": "NamespaceMagics",
        "pinfo": "NamespaceMagics",
        "pinfo2": "NamespaceMagics",
        "pip": "PackagingMagics",
        "popd": "OSMagics",
        "pprint": "BasicMagics",
        "precision": "BasicMagics",
        "prun": "ExecutionMagics",
        "psearch": "NamespaceMagics",
        "psource": "NamespaceMagics",
        "pushd": "OSMagics",
        "pwd": "OSMagics",
        "pycat": "OSMagics",
        "pylab": "PylabMagics",
        "qtconsole": "KernelMagics",
        "quickref": "BasicMagics",
        "recall": "HistoryMagics",
        "rehashx": "OSMagics",
        "reload_ext": "ExtensionMagics",
        "ren": "Other",
        "rep": "Other",
        "rerun": "HistoryMagics",
        "reset": "NamespaceMagics",
        "reset_selective": "NamespaceMagics",
        "rmdir": "Other",
        "run": "ExecutionMagics",
        "save": "CodeMagics",
        "sc": "OSMagics",
        "set_env": "OSMagics",
        "store": "StoreMagics",
        "sx": "OSMagics",
        "system": "OSMagics",
        "tb": "ExecutionMagics",
        "time": "ExecutionMagics",
        "timeit": "ExecutionMagics",
        "unalias": "OSMagics",
        "unload_ext": "ExtensionMagics",
        "who": "NamespaceMagics",
        "who_ls": "NamespaceMagics",
        "whos": "NamespaceMagics",
        "xdel": "NamespaceMagics",
        "xmode": "BasicMagics"
       }
      },
      "text/plain": [
       "Available line magics:\n",
       "%alias  %alias_magic  %autoawait  %autocall  %automagic  %autosave  %bookmark  %cd  %clear  %cls  %colors  %conda  %config  %connect_info  %copy  %ddir  %debug  %dhist  %dirs  %doctest_mode  %echo  %ed  %edit  %env  %gui  %hist  %history  %killbgscripts  %ldir  %less  %load  %load_ext  %loadpy  %logoff  %logon  %logstart  %logstate  %logstop  %ls  %lsmagic  %macro  %magic  %matplotlib  %mkdir  %more  %notebook  %page  %pastebin  %pdb  %pdef  %pdoc  %pfile  %pinfo  %pinfo2  %pip  %popd  %pprint  %precision  %prun  %psearch  %psource  %pushd  %pwd  %pycat  %pylab  %qtconsole  %quickref  %recall  %rehashx  %reload_ext  %ren  %rep  %rerun  %reset  %reset_selective  %rmdir  %run  %save  %sc  %set_env  %store  %sx  %system  %tb  %time  %timeit  %unalias  %unload_ext  %who  %who_ls  %whos  %xdel  %xmode\n",
       "\n",
       "Available cell magics:\n",
       "%%!  %%HTML  %%SVG  %%bash  %%capture  %%cmd  %%debug  %%file  %%html  %%javascript  %%js  %%latex  %%markdown  %%perl  %%prun  %%pypy  %%python  %%python2  %%python3  %%ruby  %%script  %%sh  %%svg  %%sx  %%system  %%time  %%timeit  %%writefile\n",
       "\n",
       "Automagic is ON, % prefix IS NOT needed for line magics."
      ]
     },
     "execution_count": 4,
     "metadata": {},
     "output_type": "execute_result"
    }
   ],
   "source": [
    "%lsmagic"
   ]
  },
  {
   "cell_type": "code",
   "execution_count": 5,
   "metadata": {},
   "outputs": [
    {
     "data": {
      "text/plain": [
       "'z:\\\\private\\\\nabm\\\\python\\\\code\\\\my_python\\\\pybook\\\\work_directory\\\\jupyter_notebook_tutorial'"
      ]
     },
     "execution_count": 5,
     "metadata": {},
     "output_type": "execute_result"
    }
   ],
   "source": [
    "%pwd"
   ]
  },
  {
   "cell_type": "code",
   "execution_count": 11,
   "metadata": {},
   "outputs": [
    {
     "name": "stdout",
     "output_type": "stream",
     "text": [
      " Volume in drive Z is ST-W4766CDISK\n",
      " Volume Serial Number is 0E89-7F7D\n",
      "\n",
      " Directory of z:\\private\\nabm\\python\\code\\my_python\\pybook\\work_directory\\jupyter_notebook_tutorial\n",
      "\n",
      "24.03.2020  11:23    <DIR>          .\n",
      "24.03.2020  10:50    <DIR>          ..\n",
      "24.03.2020  10:58    <DIR>          .ipynb_checkpoints\n",
      "24.03.2020  11:23             9ÿ052 Untitled.ipynb\n",
      "               1 File(s)          9ÿ052 bytes\n",
      "               3 Dir(s)  2ÿ894ÿ457ÿ249ÿ792 bytes free\n"
     ]
    }
   ],
   "source": [
    "%ls"
   ]
  },
  {
   "cell_type": "code",
   "execution_count": 12,
   "metadata": {},
   "outputs": [],
   "source": [
    "%matplotlib inline"
   ]
  },
  {
   "cell_type": "code",
   "execution_count": 16,
   "metadata": {},
   "outputs": [
    {
     "data": {
      "image/png": "[encoded data removed]",
      "text/plain": [
       "<Figure size 432x288 with 1 Axes>"
      ]
     },
     "metadata": {
      "needs_background": "light"
     },
     "output_type": "display_data"
    }
   ],
   "source": [
    "\"\"\"\n",
    "Simple demo of scatter plot\n",
    "\"\"\"\n",
    "\n",
    "import numpy as np\n",
    "import matplotlib.pyplot as plt\n",
    "\n",
    "N = 50\n",
    "x = np.random.rand(N)\n",
    "y = np.random.rand(N)\n",
    "colors = np.random.rand(N)\n",
    "area = np.pi * (15 * np.random.rand(N))**2    # 0 to 15 point radiuses\n",
    "\n",
    "plt.scatter(x, y, s=area, c=colors, alpha=0.5)\n",
    "plt.show()\n"
   ]
  },
  {
   "cell_type": "markdown",
   "metadata": {},
   "source": [
    "The `%%HTML` *cell magic command* allows us to render to HTML directly without having to change a cell type to *markdown*.\n",
    "\n",
    "So it could even be used to embed the iframe link of, for instance, YouTube videos within our notebook."
   ]
  },
  {
   "cell_type": "code",
   "execution_count": 18,
   "metadata": {},
   "outputs": [
    {
     "data": {
      "text/html": [
       "<iframe width=\"560\" height=\"315\" src=\"https://www.youtube.com/embed/HW29067qVWk\" frameborder=\"0\" allow=\"accelerometer; autoplay; encrypted-media; gyroscope; picture-in-picture\" allowfullscreen></iframe>\n"
      ],
      "text/plain": [
       "<IPython.core.display.HTML object>"
      ]
     },
     "metadata": {},
     "output_type": "display_data"
    }
   ],
   "source": [
    "%%HTML\n",
    "<iframe width=\"560\" height=\"315\" src=\"https://www.youtube.com/embed/HW29067qVWk\" frameborder=\"0\" allow=\"accelerometer; autoplay; encrypted-media; gyroscope; picture-in-picture\" allowfullscreen></iframe>"
   ]
  },
  {
   "cell_type": "markdown",
   "metadata": {},
   "source": [
    "You may have used `timeit` in your python code before, but the `%%timeit` *cell magic command* allows us to add that functionality by just adding the magic command at the beginning of the cell, as shown below. "
   ]
  },
  {
   "cell_type": "code",
   "execution_count": 24,
   "metadata": {},
   "outputs": [
    {
     "name": "stdout",
     "output_type": "stream",
     "text": [
      "63.2 µs ± 8.51 µs per loop (mean ± std. dev. of 7 runs, 10000 loops each)\n"
     ]
    }
   ],
   "source": [
    "%%timeit\n",
    "square_evens = [n*n for n in range(1000)]"
   ]
  },
  {
   "cell_type": "markdown",
   "metadata": {},
   "source": [
    "Jupyter notebooks also have the ability to render certain things within the notebook without any kind of magic commands.\n",
    "\n",
    "For instance, we can also display a pandas dataframe from directly within a notebook"
   ]
  },
  {
   "cell_type": "code",
   "execution_count": 25,
   "metadata": {},
   "outputs": [
    {
     "data": {
      "text/html": [
       "<div>\n",
       "<style scoped>\n",
       "    .dataframe tbody tr th:only-of-type {\n",
       "        vertical-align: middle;\n",
       "    }\n",
       "\n",
       "    .dataframe tbody tr th {\n",
       "        vertical-align: top;\n",
       "    }\n",
       "\n",
       "    .dataframe thead th {\n",
       "        text-align: right;\n",
       "    }\n",
       "</style>\n",
       "<table border=\"1\" class=\"dataframe\">\n",
       "  <thead>\n",
       "    <tr style=\"text-align: right;\">\n",
       "      <th></th>\n",
       "      <th>0</th>\n",
       "      <th>1</th>\n",
       "      <th>2</th>\n",
       "      <th>3</th>\n",
       "      <th>4</th>\n",
       "    </tr>\n",
       "  </thead>\n",
       "  <tbody>\n",
       "    <tr>\n",
       "      <th>0</th>\n",
       "      <td>-2.981807</td>\n",
       "      <td>-1.150171</td>\n",
       "      <td>-0.882571</td>\n",
       "      <td>0.100936</td>\n",
       "      <td>-0.995552</td>\n",
       "    </tr>\n",
       "    <tr>\n",
       "      <th>1</th>\n",
       "      <td>-1.766403</td>\n",
       "      <td>-1.545552</td>\n",
       "      <td>-0.455275</td>\n",
       "      <td>-0.744737</td>\n",
       "      <td>-0.126070</td>\n",
       "    </tr>\n",
       "    <tr>\n",
       "      <th>2</th>\n",
       "      <td>-0.377800</td>\n",
       "      <td>-0.381412</td>\n",
       "      <td>-0.323903</td>\n",
       "      <td>1.412918</td>\n",
       "      <td>0.596054</td>\n",
       "    </tr>\n",
       "    <tr>\n",
       "      <th>3</th>\n",
       "      <td>-0.678663</td>\n",
       "      <td>0.142919</td>\n",
       "      <td>-0.625967</td>\n",
       "      <td>-0.808539</td>\n",
       "      <td>1.194923</td>\n",
       "    </tr>\n",
       "    <tr>\n",
       "      <th>4</th>\n",
       "      <td>2.294111</td>\n",
       "      <td>0.317542</td>\n",
       "      <td>0.779328</td>\n",
       "      <td>-0.877745</td>\n",
       "      <td>-1.238456</td>\n",
       "    </tr>\n",
       "    <tr>\n",
       "      <th>5</th>\n",
       "      <td>1.447976</td>\n",
       "      <td>-1.629448</td>\n",
       "      <td>0.045778</td>\n",
       "      <td>-0.044872</td>\n",
       "      <td>-1.070310</td>\n",
       "    </tr>\n",
       "    <tr>\n",
       "      <th>6</th>\n",
       "      <td>-0.837004</td>\n",
       "      <td>0.333102</td>\n",
       "      <td>0.690688</td>\n",
       "      <td>-0.118381</td>\n",
       "      <td>-0.824210</td>\n",
       "    </tr>\n",
       "    <tr>\n",
       "      <th>7</th>\n",
       "      <td>-0.049901</td>\n",
       "      <td>-0.167626</td>\n",
       "      <td>0.575202</td>\n",
       "      <td>-0.434881</td>\n",
       "      <td>0.190530</td>\n",
       "    </tr>\n",
       "    <tr>\n",
       "      <th>8</th>\n",
       "      <td>0.980163</td>\n",
       "      <td>0.346749</td>\n",
       "      <td>0.779154</td>\n",
       "      <td>0.837716</td>\n",
       "      <td>-0.733957</td>\n",
       "    </tr>\n",
       "    <tr>\n",
       "      <th>9</th>\n",
       "      <td>-1.958238</td>\n",
       "      <td>-0.329245</td>\n",
       "      <td>1.267643</td>\n",
       "      <td>1.952104</td>\n",
       "      <td>0.060686</td>\n",
       "    </tr>\n",
       "  </tbody>\n",
       "</table>\n",
       "</div>"
      ],
      "text/plain": [
       "          0         1         2         3         4\n",
       "0 -2.981807 -1.150171 -0.882571  0.100936 -0.995552\n",
       "1 -1.766403 -1.545552 -0.455275 -0.744737 -0.126070\n",
       "2 -0.377800 -0.381412 -0.323903  1.412918  0.596054\n",
       "3 -0.678663  0.142919 -0.625967 -0.808539  1.194923\n",
       "4  2.294111  0.317542  0.779328 -0.877745 -1.238456\n",
       "5  1.447976 -1.629448  0.045778 -0.044872 -1.070310\n",
       "6 -0.837004  0.333102  0.690688 -0.118381 -0.824210\n",
       "7 -0.049901 -0.167626  0.575202 -0.434881  0.190530\n",
       "8  0.980163  0.346749  0.779154  0.837716 -0.733957\n",
       "9 -1.958238 -0.329245  1.267643  1.952104  0.060686"
      ]
     },
     "execution_count": 25,
     "metadata": {},
     "output_type": "execute_result"
    }
   ],
   "source": [
    "import pandas as pd\n",
    "import numpy as np\n",
    "\n",
    "df = pd.DataFrame(np.random.randn(10,5))\n",
    "df"
   ]
  },
  {
   "cell_type": "markdown",
   "metadata": {},
   "source": [
    "## A gallery of interesting Jupyter Notebooks\n",
    "\n",
    "You can find a great collection of built out Jupyter Notebooks on the link below.\n",
    "\n",
    "https://github.com/jupyter/jupyter/wiki/A-gallery-of-interesting-Jupyter-Notebooks\n",
    "\n",
    "You can download them, move them to your working directory and play around with them to get more comfortable with Jupyter Notebooks."
   ]
  },
  {
   "cell_type": "code",
   "execution_count": null,
   "metadata": {},
   "outputs": [],
   "source": []
  }
 ],
 "metadata": {
  "kernelspec": {
   "display_name": "Python 3",
   "language": "python",
   "name": "python3"
  },
  "language_info": {
   "codemirror_mode": {
    "name": "ipython",
    "version": 3
   },
   "file_extension": ".py",
   "mimetype": "text/x-python",
   "name": "python",
   "nbconvert_exporter": "python",
   "pygments_lexer": "ipython3",
   "version": "3.7.6"
  }
 },
 "nbformat": 4,
 "nbformat_minor": 4
}
